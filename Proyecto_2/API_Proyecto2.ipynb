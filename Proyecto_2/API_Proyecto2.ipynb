{
 "cells": [
  {
   "cell_type": "code",
   "execution_count": 2,
   "id": "627e920f",
   "metadata": {},
   "outputs": [
    {
     "name": "stdout",
     "output_type": "stream",
     "text": [
      " * Serving Flask app '__main__'\n",
      " * Debug mode: on\n"
     ]
    },
    {
     "name": "stderr",
     "output_type": "stream",
     "text": [
      "WARNING: This is a development server. Do not use it in a production deployment. Use a production WSGI server instead.\n",
      " * Running on all addresses (0.0.0.0)\n",
      " * Running on http://127.0.0.1:5000\n",
      " * Running on http://192.168.3.128:5000\n",
      "Press CTRL+C to quit\n",
      "192.168.3.128 - - [24/May/2024 10:42:30] \"GET / HTTP/1.1\" 200 -\n",
      "192.168.3.128 - - [24/May/2024 10:42:35] \"POST /predict HTTP/1.1\" 200 -\n"
     ]
    }
   ],
   "source": [
    "# -*- coding: utf-8 -*-\n",
    "from flask import Flask, request, render_template, jsonify\n",
    "import joblib\n",
    "import traceback\n",
    "import pandas as pd\n",
    "from sklearn.compose import ColumnTransformer\n",
    "import nltk\n",
    "from nltk.corpus import stopwords\n",
    "from nltk.stem import WordNetLemmatizer\n",
    "from sklearn.feature_extraction.text import TfidfVectorizer\n",
    "import re\n",
    "\n",
    "\n",
    "app = Flask(__name__)\n",
    "\n",
    "model, vect = joblib.load('./lr_l2_hugo.joblib')\n",
    "\n",
    "@app.route('/', methods=['GET'])\n",
    "def home():\n",
    "    return render_template('index.html')\n",
    "\n",
    "def clean_text(text):    \n",
    "    text = text.lower()\n",
    "    text = re.sub(r\"[^a-zA-Z0-9\\s]\", \"\", text)\n",
    "    text = re.sub(r\"\\s+\", \" \", text).strip()\n",
    "    text = re.sub(\"\\'\", \"\", text)\n",
    "    return text\n",
    "\n",
    "def remove_stopwords(text):\n",
    "    stop_words = set(stopwords.words('english')) \n",
    "    words = nltk.word_tokenize(text)\n",
    "    text_filtered = \" \".join([word for word in text.split() if word not in stop_words])\n",
    "    return text_filtered\n",
    "\n",
    "wordnet_lemmatizer = WordNetLemmatizer()\n",
    "\n",
    "def lem(text):\n",
    "    words = text.split()\n",
    "    return \" \".join([wordnet_lemmatizer.lemmatize(word) for word in words])\n",
    "\n",
    "@app.route('/predict', methods=['POST'])\n",
    "def predict():\n",
    "    try:               \n",
    "        title = request.form.get('title')\n",
    "        plot = request.form.get('plot')\n",
    "                \n",
    "        input_data = pd.DataFrame({            \n",
    "            'title':[title],\n",
    "            'plot': [plot]})\n",
    "                            \n",
    "        X = input_data['plot']\n",
    "        X = input_data['plot'].apply(clean_text)\n",
    "        X = X.apply(remove_stopwords)\n",
    "        X = X.apply(lambda y: lem(y))\n",
    "        X_tfidf = vect.transform(X)\n",
    "               \n",
    "        prediction = model.predict_proba(X_tfidf)\n",
    "        \n",
    "        cols = ['p_Action', 'p_Adventure', 'p_Animation', 'p_Biography', 'p_Comedy', 'p_Crime', 'p_Documentary', 'p_Drama', 'p_Family',\n",
    "        'p_Fantasy', 'p_Film-Noir', 'p_History', 'p_Horror', 'p_Music', 'p_Musical', 'p_Mystery', 'p_News', 'p_Romance',\n",
    "        'p_Sci-Fi', 'p_Short', 'p_Sport', 'p_Thriller', 'p_War', 'p_Western']\n",
    "        \n",
    "        res = pd.DataFrame(prediction, columns=cols)       \n",
    "        res = res.loc[:, (res != 0).all(axis=0)]\n",
    "\n",
    "        return jsonify({f'Género película {title}': res.to_json(orient=\"columns\")})\n",
    "        \n",
    "                \n",
    "    except Exception as e:\n",
    "        traceback.print_exc()\n",
    "        return jsonify({'error': str(e)})\n",
    "\n",
    "if __name__ == '__main__':\n",
    "    app.run(debug=True, use_reloader=False, host='0.0.0.0', port=5000)\n"
   ]
  },
  {
   "cell_type": "code",
   "execution_count": null,
   "id": "c903b902",
   "metadata": {},
   "outputs": [],
   "source": []
  }
 ],
 "metadata": {
  "kernelspec": {
   "display_name": "Python 3 (ipykernel)",
   "language": "python",
   "name": "python3"
  },
  "language_info": {
   "codemirror_mode": {
    "name": "ipython",
    "version": 3
   },
   "file_extension": ".py",
   "mimetype": "text/x-python",
   "name": "python",
   "nbconvert_exporter": "python",
   "pygments_lexer": "ipython3",
   "version": "3.11.4"
  }
 },
 "nbformat": 4,
 "nbformat_minor": 5
}
